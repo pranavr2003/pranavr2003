{
 "cells": [
  {
   "cell_type": "code",
   "execution_count": 1,
   "metadata": {},
   "outputs": [],
   "source": [
    "import numpy as np\n",
    "import pandas as pd\n",
    "import matplotlib.pyplot as plt"
   ]
  },
  {
   "cell_type": "code",
   "execution_count": 2,
   "metadata": {},
   "outputs": [
    {
     "data": {
      "text/html": [
       "<div>\n",
       "<style scoped>\n",
       "    .dataframe tbody tr th:only-of-type {\n",
       "        vertical-align: middle;\n",
       "    }\n",
       "\n",
       "    .dataframe tbody tr th {\n",
       "        vertical-align: top;\n",
       "    }\n",
       "\n",
       "    .dataframe thead th {\n",
       "        text-align: right;\n",
       "    }\n",
       "</style>\n",
       "<table border=\"1\" class=\"dataframe\">\n",
       "  <thead>\n",
       "    <tr style=\"text-align: right;\">\n",
       "      <th></th>\n",
       "      <th>TV</th>\n",
       "      <th>Radio</th>\n",
       "      <th>Newspaper</th>\n",
       "      <th>Sales</th>\n",
       "    </tr>\n",
       "  </thead>\n",
       "  <tbody>\n",
       "    <tr>\n",
       "      <th>0</th>\n",
       "      <td>230.1</td>\n",
       "      <td>37.8</td>\n",
       "      <td>69.2</td>\n",
       "      <td>22.1</td>\n",
       "    </tr>\n",
       "    <tr>\n",
       "      <th>1</th>\n",
       "      <td>44.5</td>\n",
       "      <td>39.3</td>\n",
       "      <td>45.1</td>\n",
       "      <td>10.4</td>\n",
       "    </tr>\n",
       "    <tr>\n",
       "      <th>2</th>\n",
       "      <td>17.2</td>\n",
       "      <td>45.9</td>\n",
       "      <td>69.3</td>\n",
       "      <td>9.3</td>\n",
       "    </tr>\n",
       "    <tr>\n",
       "      <th>3</th>\n",
       "      <td>151.5</td>\n",
       "      <td>41.3</td>\n",
       "      <td>58.5</td>\n",
       "      <td>18.5</td>\n",
       "    </tr>\n",
       "    <tr>\n",
       "      <th>4</th>\n",
       "      <td>180.8</td>\n",
       "      <td>10.8</td>\n",
       "      <td>58.4</td>\n",
       "      <td>12.9</td>\n",
       "    </tr>\n",
       "  </tbody>\n",
       "</table>\n",
       "</div>"
      ],
      "text/plain": [
       "      TV  Radio  Newspaper  Sales\n",
       "0  230.1   37.8       69.2   22.1\n",
       "1   44.5   39.3       45.1   10.4\n",
       "2   17.2   45.9       69.3    9.3\n",
       "3  151.5   41.3       58.5   18.5\n",
       "4  180.8   10.8       58.4   12.9"
      ]
     },
     "execution_count": 2,
     "metadata": {},
     "output_type": "execute_result"
    }
   ],
   "source": [
    "df_AdvData = pd.read_csv(\"https://raw.githubusercontent.com/justmarkham/scikit-learn-videos/master/data/Advertising.csv\")\n",
    "del df_AdvData['Unnamed: 0']\n",
    "df_AdvData.head()"
   ]
  },
  {
   "cell_type": "code",
   "execution_count": 3,
   "metadata": {},
   "outputs": [],
   "source": [
    "X = df_AdvData[['TV', 'Radio', 'Newspaper']]\n",
    "y = df_AdvData['Sales']"
   ]
  },
  {
   "cell_type": "code",
   "execution_count": 4,
   "metadata": {},
   "outputs": [],
   "source": [
    "from sklearn.model_selection import train_test_split\n",
    "X_train, X_test, y_train, y_test = train_test_split(X, y, test_size=0.2, random_state=42)"
   ]
  },
  {
   "cell_type": "code",
   "execution_count": 5,
   "metadata": {},
   "outputs": [],
   "source": [
    "X_train = (X_train.values).astype(np.float32)\n",
    "y_train = (y_train.values).astype(np.float32)\n",
    "X_test = (X_test.values).astype(np.float32)\n",
    "y_test = (y_test.values).astype(np.float32)"
   ]
  },
  {
   "attachments": {},
   "cell_type": "markdown",
   "metadata": {},
   "source": [
    "#### Standard Scaling"
   ]
  },
  {
   "cell_type": "code",
   "execution_count": 6,
   "metadata": {},
   "outputs": [],
   "source": [
    "from sklearn.preprocessing import StandardScaler\n",
    "\n",
    "sc = StandardScaler()\n",
    "\n",
    "sc.fit(X_train)         # Computes mean and dev for X_train to scale whole of X\n",
    "\n",
    "X_train_std = sc.transform(X_train)\n",
    "X_test_std = sc.transform(X_test)"
   ]
  },
  {
   "cell_type": "code",
   "execution_count": 7,
   "metadata": {},
   "outputs": [
    {
     "name": "stdout",
     "output_type": "stream",
     "text": [
      "0.899437992963907\n",
      "14.1\n",
      "[3.764196   2.7923071  0.05597566]\n"
     ]
    }
   ],
   "source": [
    "from sklearn.linear_model import LinearRegression\n",
    "\n",
    "model = LinearRegression()\n",
    "model.fit(X_train_std, y_train)\n",
    "\n",
    "print(model.score(X_test_std, y_test))\n",
    "\n",
    "# Print parameters\n",
    "print(model.intercept_)\n",
    "print(model.coef_)"
   ]
  },
  {
   "attachments": {},
   "cell_type": "markdown",
   "metadata": {},
   "source": [
    "#### Normal Equation"
   ]
  },
  {
   "cell_type": "code",
   "execution_count": 8,
   "metadata": {},
   "outputs": [],
   "source": [
    "X_train_std_bias = np.c_[np.ones((X_train_std.shape[0], 1)), X_train_std]"
   ]
  },
  {
   "cell_type": "code",
   "execution_count": 9,
   "metadata": {},
   "outputs": [
    {
     "name": "stdout",
     "output_type": "stream",
     "text": [
      "[[ 1.         -0.40424839 -1.0282371  -0.33767536]\n",
      " [ 1.          0.32060772 -0.9198277  -1.1614393 ]\n",
      " [ 1.         -1.27051091  0.25912377  0.25425074]]\n"
     ]
    }
   ],
   "source": [
    "print(X_train_std_bias[:3, :])"
   ]
  },
  {
   "cell_type": "code",
   "execution_count": 10,
   "metadata": {},
   "outputs": [
    {
     "name": "stdout",
     "output_type": "stream",
     "text": [
      "[14.10000006  3.76419617  2.7923068   0.05597551]\n"
     ]
    }
   ],
   "source": [
    "inv_term = np.linalg.inv(np.dot(X_train_std_bias.T, X_train_std_bias))\n",
    "ThetaEq = inv_term.dot(X_train_std_bias.T).dot(y_train)\n",
    "\n",
    "print(ThetaEq)"
   ]
  },
  {
   "attachments": {},
   "cell_type": "markdown",
   "metadata": {},
   "source": [
    "#### Gradient Descent Implementation - From Scratch \n",
    "\n",
    "- NOTE: Standardization is required for gradient descent"
   ]
  },
  {
   "cell_type": "code",
   "execution_count": 11,
   "metadata": {},
   "outputs": [
    {
     "data": {
      "text/plain": [
       "array([[ 0.36684787],\n",
       "       [ 0.38050137],\n",
       "       [-0.1889217 ],\n",
       "       [-0.63331843]])"
      ]
     },
     "execution_count": 11,
     "metadata": {},
     "output_type": "execute_result"
    }
   ],
   "source": [
    "m = X_train_std.shape[0]\n",
    "eta = 0.1\n",
    "epochs = 100\n",
    "n_iterations = epochs\n",
    "theta_FullBatchGD = np.random.randn(4, 1)\n",
    "\n",
    "theta_FullBatchGD"
   ]
  },
  {
   "cell_type": "code",
   "execution_count": 12,
   "metadata": {},
   "outputs": [
    {
     "name": "stdout",
     "output_type": "stream",
     "text": [
      "(160, 4) (4, 160) (4, 1)\n"
     ]
    }
   ],
   "source": [
    "print(X_train_std_bias.shape, X_train_std_bias.T.shape, theta_FullBatchGD.shape)"
   ]
  },
  {
   "cell_type": "code",
   "execution_count": 13,
   "metadata": {},
   "outputs": [
    {
     "name": "stdout",
     "output_type": "stream",
     "text": [
      "(160,)\n",
      "(160, 1)\n"
     ]
    }
   ],
   "source": [
    "d = y_train\n",
    "print(d.shape)\n",
    "print(d.reshape(-1, 1).shape)"
   ]
  },
  {
   "cell_type": "code",
   "execution_count": 14,
   "metadata": {},
   "outputs": [],
   "source": [
    "for iteration in range(n_iterations):\n",
    "\n",
    "    nable_MSE = (2/m) * X_train_std_bias.T.dot(X_train_std_bias.dot(theta_FullBatchGD) - y_train.reshape(-1, 1))\n",
    "    theta_FullBatchGD = theta_FullBatchGD - eta * nable_MSE"
   ]
  },
  {
   "cell_type": "code",
   "execution_count": 15,
   "metadata": {},
   "outputs": [
    {
     "data": {
      "text/plain": [
       "array([[14.10000006],\n",
       "       [ 3.76419637],\n",
       "       [ 2.79230458],\n",
       "       [ 0.05597771]])"
      ]
     },
     "execution_count": 15,
     "metadata": {},
     "output_type": "execute_result"
    }
   ],
   "source": [
    "theta_FullBatchGD"
   ]
  },
  {
   "cell_type": "code",
   "execution_count": 16,
   "metadata": {},
   "outputs": [],
   "source": [
    "n_iterations = 50\n",
    "t0 = 7\n",
    "t1 = 50\n",
    "t = 0\n",
    "\n",
    "np.random.seed(42)\n",
    "\n",
    "theta_StochaisticGD = np.random.rand(4, 1)\n",
    "\n",
    "def lr_sim_annealing(t):\n",
    "\n",
    "    return (t0)/(t + t1)"
   ]
  },
  {
   "cell_type": "code",
   "execution_count": 17,
   "metadata": {},
   "outputs": [],
   "source": [
    "for iteration in range(n_iterations):\n",
    "\n",
    "    for i in range(m):\n",
    "        t = t + 1\n",
    "        \n",
    "        random_sample = np.random.randint(m)\n",
    "        X_train_std_bias_sample = X_train_std_bias[random_sample:random_sample+1]\n",
    "        y_train_sample = y_train[random_sample:random_sample+1]\n",
    "\n",
    "        nable_MSE = 2 * X_train_std_bias_sample.T.dot(X_train_std_bias_sample.dot(theta_StochaisticGD) - y_train_sample)\n",
    "        \n",
    "        theta_StochaisticGD = theta_StochaisticGD - eta * nable_MSE\n",
    "\n",
    "        eta = lr_sim_annealing(eta)"
   ]
  },
  {
   "cell_type": "code",
   "execution_count": 18,
   "metadata": {},
   "outputs": [
    {
     "data": {
      "text/plain": [
       "array([[14.66912076],\n",
       "       [ 3.14696776],\n",
       "       [ 2.65614395],\n",
       "       [-0.2760452 ]])"
      ]
     },
     "execution_count": 18,
     "metadata": {},
     "output_type": "execute_result"
    }
   ],
   "source": [
    "theta_StochaisticGD"
   ]
  },
  {
   "cell_type": "code",
   "execution_count": 19,
   "metadata": {},
   "outputs": [],
   "source": [
    "n_iterations = 100\n",
    "t0 = 7\n",
    "t1 = 50\n",
    "t = 0\n",
    "batch_size = 16\n",
    "theta_MiniBatchGD = np.random.randn(4, 1)\n",
    "\n",
    "for iteration in range(n_iterations):\n",
    "\n",
    "    random_indices = np.random.permutation(m)\n",
    "\n",
    "    X_train_std_bias_shuffled = X_train_std_bias[random_indices]\n",
    "    y_train_shuffled = y_train[random_indices]\n",
    "\n",
    "    for i in range(0, m, batch_size):\n",
    "\n",
    "        t = t + 1\n",
    "\n",
    "        X_i = X_train_std_bias_shuffled[i : i + batch_size]\n",
    "        y_i = y_train_shuffled[i : i + batch_size]\n",
    "\n",
    "        nabla_MSE = 2/batch_size * X_i.T.dot(X_i.dot(theta_MiniBatchGD) - y_i.reshape(-1, 1))\n",
    "\n",
    "        theta_MiniBatchGD = theta_MiniBatchGD - eta * nabla_MSE\n",
    "\n",
    "        eta = lr_sim_annealing(t)"
   ]
  },
  {
   "cell_type": "code",
   "execution_count": 20,
   "metadata": {},
   "outputs": [
    {
     "data": {
      "text/plain": [
       "array([[14.09808192],\n",
       "       [ 3.76583336],\n",
       "       [ 2.79537353],\n",
       "       [ 0.05779406]])"
      ]
     },
     "execution_count": 20,
     "metadata": {},
     "output_type": "execute_result"
    }
   ],
   "source": [
    "theta_MiniBatchGD"
   ]
  },
  {
   "cell_type": "code",
   "execution_count": 36,
   "metadata": {},
   "outputs": [
    {
     "data": {
      "text/plain": [
       "1683436500.8491154"
      ]
     },
     "execution_count": 36,
     "metadata": {},
     "output_type": "execute_result"
    }
   ],
   "source": [
    "np.random.permutation(12)\n",
    "time.time()"
   ]
  },
  {
   "attachments": {},
   "cell_type": "markdown",
   "metadata": {},
   "source": [
    "#### Polynomial Regression"
   ]
  },
  {
   "cell_type": "code",
   "execution_count": 52,
   "metadata": {},
   "outputs": [
    {
     "data": {
      "text/html": [
       "<style>#sk-container-id-5 {color: black;background-color: white;}#sk-container-id-5 pre{padding: 0;}#sk-container-id-5 div.sk-toggleable {background-color: white;}#sk-container-id-5 label.sk-toggleable__label {cursor: pointer;display: block;width: 100%;margin-bottom: 0;padding: 0.3em;box-sizing: border-box;text-align: center;}#sk-container-id-5 label.sk-toggleable__label-arrow:before {content: \"▸\";float: left;margin-right: 0.25em;color: #696969;}#sk-container-id-5 label.sk-toggleable__label-arrow:hover:before {color: black;}#sk-container-id-5 div.sk-estimator:hover label.sk-toggleable__label-arrow:before {color: black;}#sk-container-id-5 div.sk-toggleable__content {max-height: 0;max-width: 0;overflow: hidden;text-align: left;background-color: #f0f8ff;}#sk-container-id-5 div.sk-toggleable__content pre {margin: 0.2em;color: black;border-radius: 0.25em;background-color: #f0f8ff;}#sk-container-id-5 input.sk-toggleable__control:checked~div.sk-toggleable__content {max-height: 200px;max-width: 100%;overflow: auto;}#sk-container-id-5 input.sk-toggleable__control:checked~label.sk-toggleable__label-arrow:before {content: \"▾\";}#sk-container-id-5 div.sk-estimator input.sk-toggleable__control:checked~label.sk-toggleable__label {background-color: #d4ebff;}#sk-container-id-5 div.sk-label input.sk-toggleable__control:checked~label.sk-toggleable__label {background-color: #d4ebff;}#sk-container-id-5 input.sk-hidden--visually {border: 0;clip: rect(1px 1px 1px 1px);clip: rect(1px, 1px, 1px, 1px);height: 1px;margin: -1px;overflow: hidden;padding: 0;position: absolute;width: 1px;}#sk-container-id-5 div.sk-estimator {font-family: monospace;background-color: #f0f8ff;border: 1px dotted black;border-radius: 0.25em;box-sizing: border-box;margin-bottom: 0.5em;}#sk-container-id-5 div.sk-estimator:hover {background-color: #d4ebff;}#sk-container-id-5 div.sk-parallel-item::after {content: \"\";width: 100%;border-bottom: 1px solid gray;flex-grow: 1;}#sk-container-id-5 div.sk-label:hover label.sk-toggleable__label {background-color: #d4ebff;}#sk-container-id-5 div.sk-serial::before {content: \"\";position: absolute;border-left: 1px solid gray;box-sizing: border-box;top: 0;bottom: 0;left: 50%;z-index: 0;}#sk-container-id-5 div.sk-serial {display: flex;flex-direction: column;align-items: center;background-color: white;padding-right: 0.2em;padding-left: 0.2em;position: relative;}#sk-container-id-5 div.sk-item {position: relative;z-index: 1;}#sk-container-id-5 div.sk-parallel {display: flex;align-items: stretch;justify-content: center;background-color: white;position: relative;}#sk-container-id-5 div.sk-item::before, #sk-container-id-5 div.sk-parallel-item::before {content: \"\";position: absolute;border-left: 1px solid gray;box-sizing: border-box;top: 0;bottom: 0;left: 50%;z-index: -1;}#sk-container-id-5 div.sk-parallel-item {display: flex;flex-direction: column;z-index: 1;position: relative;background-color: white;}#sk-container-id-5 div.sk-parallel-item:first-child::after {align-self: flex-end;width: 50%;}#sk-container-id-5 div.sk-parallel-item:last-child::after {align-self: flex-start;width: 50%;}#sk-container-id-5 div.sk-parallel-item:only-child::after {width: 0;}#sk-container-id-5 div.sk-dashed-wrapped {border: 1px dashed gray;margin: 0 0.4em 0.5em 0.4em;box-sizing: border-box;padding-bottom: 0.4em;background-color: white;}#sk-container-id-5 div.sk-label label {font-family: monospace;font-weight: bold;display: inline-block;line-height: 1.2em;}#sk-container-id-5 div.sk-label-container {text-align: center;}#sk-container-id-5 div.sk-container {/* jupyter's `normalize.less` sets `[hidden] { display: none; }` but bootstrap.min.css set `[hidden] { display: none !important; }` so we also need the `!important` here to be able to override the default hidden behavior on the sphinx rendered scikit-learn.org. See: https://github.com/scikit-learn/scikit-learn/issues/21755 */display: inline-block !important;position: relative;}#sk-container-id-5 div.sk-text-repr-fallback {display: none;}</style><div id=\"sk-container-id-5\" class=\"sk-top-container\"><div class=\"sk-text-repr-fallback\"><pre>LinearRegression()</pre><b>In a Jupyter environment, please rerun this cell to show the HTML representation or trust the notebook. <br />On GitHub, the HTML representation is unable to render, please try loading this page with nbviewer.org.</b></div><div class=\"sk-container\" hidden><div class=\"sk-item\"><div class=\"sk-estimator sk-toggleable\"><input class=\"sk-toggleable__control sk-hidden--visually\" id=\"sk-estimator-id-5\" type=\"checkbox\" checked><label for=\"sk-estimator-id-5\" class=\"sk-toggleable__label sk-toggleable__label-arrow\">LinearRegression</label><div class=\"sk-toggleable__content\"><pre>LinearRegression()</pre></div></div></div></div></div>"
      ],
      "text/plain": [
       "LinearRegression()"
      ]
     },
     "execution_count": 52,
     "metadata": {},
     "output_type": "execute_result"
    }
   ],
   "source": [
    "from sklearn.preprocessing import PolynomialFeatures\n",
    "\n",
    "poly_features = PolynomialFeatures(degree = 3, include_bias = False)\n",
    "\n",
    "X_poly = poly_features.fit_transform(X_train)\n",
    "\n",
    "poly_reg = LinearRegression()\n",
    "\n",
    "poly_reg.fit(X_poly, y_train)"
   ]
  },
  {
   "cell_type": "code",
   "execution_count": 53,
   "metadata": {},
   "outputs": [],
   "source": [
    "X_new_poly = poly_features.transform(X_test)\n",
    "y_pred_poly= poly_reg.predict(X_new_poly)"
   ]
  },
  {
   "cell_type": "code",
   "execution_count": 54,
   "metadata": {},
   "outputs": [
    {
     "data": {
      "text/html": [
       "<div>\n",
       "<style scoped>\n",
       "    .dataframe tbody tr th:only-of-type {\n",
       "        vertical-align: middle;\n",
       "    }\n",
       "\n",
       "    .dataframe tbody tr th {\n",
       "        vertical-align: top;\n",
       "    }\n",
       "\n",
       "    .dataframe thead th {\n",
       "        text-align: right;\n",
       "    }\n",
       "</style>\n",
       "<table border=\"1\" class=\"dataframe\">\n",
       "  <thead>\n",
       "    <tr style=\"text-align: right;\">\n",
       "      <th></th>\n",
       "      <th>0</th>\n",
       "      <th>1</th>\n",
       "      <th>2</th>\n",
       "      <th>3</th>\n",
       "      <th>4</th>\n",
       "      <th>5</th>\n",
       "      <th>6</th>\n",
       "      <th>7</th>\n",
       "      <th>8</th>\n",
       "      <th>9</th>\n",
       "      <th>...</th>\n",
       "      <th>30</th>\n",
       "      <th>31</th>\n",
       "      <th>32</th>\n",
       "      <th>33</th>\n",
       "      <th>34</th>\n",
       "      <th>35</th>\n",
       "      <th>36</th>\n",
       "      <th>37</th>\n",
       "      <th>38</th>\n",
       "      <th>39</th>\n",
       "    </tr>\n",
       "  </thead>\n",
       "  <tbody>\n",
       "    <tr>\n",
       "      <th>0</th>\n",
       "      <td>16.900000</td>\n",
       "      <td>22.400000</td>\n",
       "      <td>21.400000</td>\n",
       "      <td>7.300000</td>\n",
       "      <td>24.700001</td>\n",
       "      <td>12.600000</td>\n",
       "      <td>22.299999</td>\n",
       "      <td>8.400000</td>\n",
       "      <td>11.50000</td>\n",
       "      <td>14.900000</td>\n",
       "      <td>...</td>\n",
       "      <td>10.600000</td>\n",
       "      <td>11.300000</td>\n",
       "      <td>23.700001</td>\n",
       "      <td>8.700000</td>\n",
       "      <td>16.100000</td>\n",
       "      <td>20.700001</td>\n",
       "      <td>11.60000</td>\n",
       "      <td>20.799999</td>\n",
       "      <td>11.900000</td>\n",
       "      <td>6.900000</td>\n",
       "    </tr>\n",
       "    <tr>\n",
       "      <th>1</th>\n",
       "      <td>17.121777</td>\n",
       "      <td>22.231934</td>\n",
       "      <td>21.456097</td>\n",
       "      <td>7.278682</td>\n",
       "      <td>24.254593</td>\n",
       "      <td>13.130607</td>\n",
       "      <td>22.543484</td>\n",
       "      <td>8.601265</td>\n",
       "      <td>11.62699</td>\n",
       "      <td>15.536464</td>\n",
       "      <td>...</td>\n",
       "      <td>11.227007</td>\n",
       "      <td>10.716135</td>\n",
       "      <td>22.725266</td>\n",
       "      <td>8.449516</td>\n",
       "      <td>16.172367</td>\n",
       "      <td>20.841984</td>\n",
       "      <td>10.91869</td>\n",
       "      <td>20.718019</td>\n",
       "      <td>12.141545</td>\n",
       "      <td>6.423879</td>\n",
       "    </tr>\n",
       "  </tbody>\n",
       "</table>\n",
       "<p>2 rows × 40 columns</p>\n",
       "</div>"
      ],
      "text/plain": [
       "          0          1          2         3          4          5          6    \n",
       "0  16.900000  22.400000  21.400000  7.300000  24.700001  12.600000  22.299999  \\\n",
       "1  17.121777  22.231934  21.456097  7.278682  24.254593  13.130607  22.543484   \n",
       "\n",
       "         7         8          9   ...         30         31         32   \n",
       "0  8.400000  11.50000  14.900000  ...  10.600000  11.300000  23.700001  \\\n",
       "1  8.601265  11.62699  15.536464  ...  11.227007  10.716135  22.725266   \n",
       "\n",
       "         33         34         35        36         37         38        39  \n",
       "0  8.700000  16.100000  20.700001  11.60000  20.799999  11.900000  6.900000  \n",
       "1  8.449516  16.172367  20.841984  10.91869  20.718019  12.141545  6.423879  \n",
       "\n",
       "[2 rows x 40 columns]"
      ]
     },
     "execution_count": 54,
     "metadata": {},
     "output_type": "execute_result"
    }
   ],
   "source": [
    "poly_df_pred = pd.DataFrame([y_test, y_pred_poly])\n",
    "poly_df_pred.head()"
   ]
  },
  {
   "cell_type": "code",
   "execution_count": 55,
   "metadata": {},
   "outputs": [
    {
     "data": {
      "text/plain": [
       "1.0"
      ]
     },
     "execution_count": 55,
     "metadata": {},
     "output_type": "execute_result"
    }
   ],
   "source": [
    "poly_reg.score(X_new_poly, y_pred_poly)"
   ]
  },
  {
   "cell_type": "code",
   "execution_count": null,
   "metadata": {},
   "outputs": [],
   "source": []
  }
 ],
 "metadata": {
  "kernelspec": {
   "display_name": "Python 3",
   "language": "python",
   "name": "python3"
  },
  "language_info": {
   "codemirror_mode": {
    "name": "ipython",
    "version": 3
   },
   "file_extension": ".py",
   "mimetype": "text/x-python",
   "name": "python",
   "nbconvert_exporter": "python",
   "pygments_lexer": "ipython3",
   "version": "3.10.4"
  },
  "orig_nbformat": 4
 },
 "nbformat": 4,
 "nbformat_minor": 2
}
